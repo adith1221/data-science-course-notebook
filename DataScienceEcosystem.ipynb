{
 "cells": [
  {
   "cell_type": "markdown",
   "id": "a1c25fd5-f1a6-4211-a4d9-9595fce2f587",
   "metadata": {},
   "source": [
    "## Author\n",
    "Adith M"
   ]
  },
  {
   "cell_type": "code",
   "execution_count": null,
   "id": "641febcb-c263-4cc5-b16d-ae7d99a66033",
   "metadata": {},
   "outputs": [],
   "source": []
  }
 ],
 "metadata": {
  "kernelspec": {
   "display_name": "Python 3 (ipykernel)",
   "language": "python",
   "name": "python3"
  },
  "language_info": {
   "codemirror_mode": {
    "name": "ipython",
    "version": 3
   },
   "file_extension": ".py",
   "mimetype": "text/x-python",
   "name": "python",
   "nbconvert_exporter": "python",
   "pygments_lexer": "ipython3",
   "version": "3.13.5"
  }
 },
 "nbformat": 4,
 "nbformat_minor": 5
}
